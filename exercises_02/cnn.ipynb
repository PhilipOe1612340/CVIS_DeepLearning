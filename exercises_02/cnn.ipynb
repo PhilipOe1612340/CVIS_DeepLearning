{
  "nbformat": 4,
  "nbformat_minor": 0,
  "metadata": {
    "colab": {
      "name": "Untitled1.ipynb",
      "provenance": [],
      "collapsed_sections": [],
      "include_colab_link": true
    },
    "kernelspec": {
      "name": "python3",
      "display_name": "Python 3"
    },
    "accelerator": "GPU"
  },
  "cells": [
    {
      "cell_type": "markdown",
      "metadata": {
        "id": "view-in-github",
        "colab_type": "text"
      },
      "source": [
        "<a href=\"https://colab.research.google.com/github/PhilipOe1612340/CVIS_DeepLearning/blob/master/exercises_02/cnn.ipynb\" target=\"_parent\"><img src=\"https://colab.research.google.com/assets/colab-badge.svg\" alt=\"Open In Colab\"/></a>"
      ]
    },
    {
      "cell_type": "code",
      "metadata": {
        "id": "AMSz3S9TEQc0",
        "colab_type": "code",
        "colab": {
          "base_uri": "https://localhost:8080/",
          "height": 370
        },
        "outputId": "9d67c5a6-ffef-4e8e-9d45-675dec236ff9"
      },
      "source": [
        "!mkdir data\n",
        "!mkdir -p outputs/weights\n",
        "!cd data\n",
        "!wget http://codh.rois.ac.jp/char-shape/software/pmjt_sample_20161116.tar.gz\n",
        "!tar -xvzf pmjt_sample_20161116.tar.gz\n",
        "!rm pmjt_sample_20161116.tar.gz\n",
        "!mv pmjt_sample_20161116/train_test_file_list.h5 data/\n",
        "!rm -r pmjt_sample_20161116\n",
        "!cd .."
      ],
      "execution_count": 5,
      "outputs": [
        {
          "output_type": "stream",
          "text": [
            "mkdir: cannot create directory ‘data’: File exists\n",
            "--2019-12-09 14:48:58--  http://codh.rois.ac.jp/char-shape/software/pmjt_sample_20161116.tar.gz\n",
            "Resolving codh.rois.ac.jp (codh.rois.ac.jp)... 136.187.88.58\n",
            "Connecting to codh.rois.ac.jp (codh.rois.ac.jp)|136.187.88.58|:80... connected.\n",
            "HTTP request sent, awaiting response... 200 OK\n",
            "Length: 25764925 (25M) [application/x-tar]\n",
            "Saving to: ‘pmjt_sample_20161116.tar.gz’\n",
            "\n",
            "pmjt_sample_2016111 100%[===================>]  24.57M  4.17MB/s    in 7.1s    \n",
            "\n",
            "2019-12-09 14:49:05 (3.48 MB/s) - ‘pmjt_sample_20161116.tar.gz’ saved [25764925/25764925]\n",
            "\n",
            "pmjt_sample_20161116/\n",
            "pmjt_sample_20161116/load.pyc\n",
            "pmjt_sample_20161116/run.py\n",
            "pmjt_sample_20161116/config.pyc\n",
            "pmjt_sample_20161116/load.py\n",
            "pmjt_sample_20161116/train_test_file_list.h5\n",
            "pmjt_sample_20161116/config.py\n",
            "pmjt_sample_20161116/readme.md\n",
            "data  output  outputs  sample_data\n"
          ],
          "name": "stdout"
        }
      ]
    },
    {
      "cell_type": "code",
      "metadata": {
        "colab_type": "code",
        "id": "xvxNUZlXJOj3",
        "colab": {}
      },
      "source": [
        "import tensorflow as tf\n",
        "import numpy as np\n",
        "import os\n",
        "import h5py\n",
        "import matplotlib.pyplot as plt\n",
        "\n"
      ],
      "execution_count": 0,
      "outputs": []
    },
    {
      "cell_type": "code",
      "metadata": {
        "id": "nx-RkR_OJx1B",
        "colab_type": "code",
        "colab": {}
      },
      "source": [
        "loadFromFile = True\n",
        "\n",
        "def weight_variable(shape, trainable, init):\n",
        "    if os.path.exists(init) and loadFromFile:\n",
        "        vals = np.load(init)\n",
        "    else:\n",
        "        vals = tf.truncated_normal(shape, stddev=0.1)\n",
        "    return tf.Variable(vals, trainable=trainable)\n",
        "\n",
        "\n",
        "def bias_variable(shape, trainable, init):\n",
        "    if os.path.exists(init) and loadFromFile:\n",
        "        vals = np.load(init)\n",
        "    else:\n",
        "        vals = 0.1 * np.zeros(shape, dtype=np.float32)\n",
        "    return tf.Variable(vals, trainable=trainable)\n",
        "\n",
        "\n",
        "def conv2d(x, W):\n",
        "    return tf.nn.conv2d(x, W, strides=[1, 1, 1, 1], padding='SAME')\n",
        "\n",
        "\n",
        "def max_pool_2x2(x):\n",
        "    return tf.nn.max_pool(x, ksize=[1, 2, 2, 1],\n",
        "                          strides=[1, 2, 2, 1], padding='SAME')\n",
        "\n",
        "\n",
        "def batch(X, d, batch_size):\n",
        "    permutation = np.random.randint(0, X.shape[0], batch_size)\n",
        "    return X[permutation, ...], d[permutation, ...]\n",
        "\n",
        "\n",
        "def normalize(X):\n",
        "    for i in range(X.shape[0]):\n",
        "        # zero mean\n",
        "        X[i, ...] = X[i, ...] - np.mean(X[i, ...].ravel())\n",
        "        X[i, ...] = X[i, ...] / np.std(X[i, ...].ravel())\n",
        "    return X"
      ],
      "execution_count": 0,
      "outputs": []
    },
    {
      "cell_type": "code",
      "metadata": {
        "id": "v01gSFCzJx3h",
        "colab_type": "code",
        "colab": {}
      },
      "source": [
        "'''\n",
        "LOAD\n",
        "'''\n",
        "file = h5py.File('./data/train_test_file_list.h5')"
      ],
      "execution_count": 0,
      "outputs": []
    },
    {
      "cell_type": "code",
      "metadata": {
        "id": "0obkavw6KApV",
        "colab_type": "code",
        "colab": {
          "base_uri": "https://localhost:8080/",
          "height": 50
        },
        "outputId": "2d7ad718-58f9-40f5-ec33-fd327e85e56d"
      },
      "source": [
        "# training data\n",
        "\n",
        "X_train = file['train_x'][()]\n",
        "d_train = file['train_y'][()]\n",
        "\n",
        "n_classes = np.unique(d_train).size\n",
        "d_train = (np.arange(n_classes) == d_train).astype(np.float32)\n",
        "n_train, H, W = X_train.shape  # getting the size information\n",
        "X_train = X_train.reshape((-1, H, W, 1)).astype(np.float32)  # reshape to a n_train x H*W vector\n",
        "X_train = normalize(X_train)\n",
        "\n",
        "# test data\n",
        "X_test = file['test_x'][()]\n",
        "d_test = file['test_y'][()]\n",
        "n_test, _, _ = X_test.shape\n",
        "d_test = (np.arange(n_classes) == d_test).astype(np.float32)\n",
        "X_test = X_test.reshape((n_test, H * W)).astype(np.float32)\n",
        "X_test = normalize(X_test)\n",
        "\n",
        "print(X_train.shape)\n",
        "print(X_test.shape)"
      ],
      "execution_count": 17,
      "outputs": [
        {
          "output_type": "stream",
          "text": [
            "(19909, 28, 28, 1)\n",
            "(3514, 784)\n"
          ],
          "name": "stdout"
        }
      ]
    },
    {
      "cell_type": "code",
      "metadata": {
        "id": "D6QOz4GWJx5o",
        "colab_type": "code",
        "colab": {}
      },
      "source": [
        "n_iter = 100\n",
        "batch_size = 500"
      ],
      "execution_count": 0,
      "outputs": []
    },
    {
      "cell_type": "code",
      "metadata": {
        "id": "JF2CYAhLJtwo",
        "colab_type": "code",
        "colab": {
          "base_uri": "https://localhost:8080/",
          "height": 1000
        },
        "outputId": "33cbcb97-4b3f-4c17-9eaf-284359d4e475"
      },
      "source": [
        "'''\n",
        "TENSORFLOW \n",
        "'''\n",
        "x = tf.placeholder(np.float32)\n",
        "x_image = tf.reshape(x, [-1, 28, 28, 1])\n",
        "d = tf.placeholder(np.float32)\n",
        "\n",
        "W_conv1 = weight_variable([7, 7, 1, 32], True, './outputs/weights/W_conv1.npy')\n",
        "b_conv1 = bias_variable([32], True, './outputs/weights/b_conv1.npy')\n",
        "h_conv1 = tf.nn.relu(conv2d(x_image, W_conv1) + b_conv1)\n",
        "h_pool1 = max_pool_2x2(h_conv1)\n",
        "W_conv2 = weight_variable([5, 5, 32, 16], True, './outputs/weights/W_conv2.npy')\n",
        "b_conv2 = bias_variable([16], True, './outputs/weights/b_conv2.npy')\n",
        "h_conv2 = tf.nn.relu(conv2d(h_pool1, W_conv2) + b_conv2)\n",
        "h_pool2 = max_pool_2x2(h_conv2)\n",
        "W_fc1 = weight_variable([7 * 7 * 16, 16], True, './outputs/weights/W_fc1.npy')\n",
        "b_fc1 = bias_variable([16], True, './outputs/weights/b_fc1.npy')\n",
        "h_pool2_flat = tf.reshape(h_pool2, [-1, 7 * 7 * 16])\n",
        "h_fc1 = tf.nn.relu(tf.matmul(h_pool2_flat, W_fc1) + b_fc1)\n",
        "W_fc2 = weight_variable([16, 10], True, './outputs/weights/W_fc2.npy')\n",
        "b_fc2 = bias_variable([10], True, './outputs/weights/b_fc2.npy')\n",
        "net = tf.matmul(h_fc1, W_fc2) + b_fc2\n",
        "\n",
        "sess = tf.Session()\n",
        "sess.run(tf.global_variables_initializer())\n",
        "\n",
        "cross_entropy = tf.reduce_mean(tf.nn.softmax_cross_entropy_with_logits(labels=d, logits=net))\n",
        "train = tf.train.AdamOptimizer(0.001).minimize(cross_entropy)\n",
        "sess.run(tf.global_variables_initializer())\n",
        "\n",
        "accuracy = np.zeros((n_iter, 2), dtype=np.float32)\n",
        "for i in range(n_iter):\n",
        "    X_train_batch, d_train_batch = batch(X_train, d_train, batch_size)\n",
        "\n",
        "    sess.run(train, feed_dict={x: X_train_batch, d: d_train_batch})\n",
        "\n",
        "    res_test = sess.run(net, feed_dict={x: X_test, d: d_test})\n",
        "    res_train = sess.run(net, feed_dict={x: X_train_batch, d: d_train_batch})\n",
        "\n",
        "    accuracy[i, 0] = np.sum(np.sum(np.argmax(res_test, 1) == np.argmax(d_test, 1))).astype(np.float32) / X_test.shape[0]\n",
        "    accuracy[i, 1] = np.sum(np.sum(np.argmax(res_train, 1) == np.argmax(d_train_batch, 1))).astype(np.float32) / \\\n",
        "                     X_train_batch.shape[0]\n",
        "    print('Test Accuracy %.2f\\t Train Accuracy %.2f' % (accuracy[i, 0], accuracy[i, 1]))"
      ],
      "execution_count": 18,
      "outputs": [
        {
          "output_type": "stream",
          "text": [
            "Test Accuracy 0.77\t Train Accuracy 0.79\n",
            "Test Accuracy 0.83\t Train Accuracy 0.86\n",
            "Test Accuracy 0.82\t Train Accuracy 0.81\n",
            "Test Accuracy 0.82\t Train Accuracy 0.79\n",
            "Test Accuracy 0.83\t Train Accuracy 0.82\n",
            "Test Accuracy 0.84\t Train Accuracy 0.82\n",
            "Test Accuracy 0.83\t Train Accuracy 0.82\n",
            "Test Accuracy 0.83\t Train Accuracy 0.87\n",
            "Test Accuracy 0.84\t Train Accuracy 0.86\n",
            "Test Accuracy 0.84\t Train Accuracy 0.86\n",
            "Test Accuracy 0.84\t Train Accuracy 0.82\n",
            "Test Accuracy 0.84\t Train Accuracy 0.83\n",
            "Test Accuracy 0.84\t Train Accuracy 0.88\n",
            "Test Accuracy 0.84\t Train Accuracy 0.84\n",
            "Test Accuracy 0.85\t Train Accuracy 0.86\n",
            "Test Accuracy 0.85\t Train Accuracy 0.86\n",
            "Test Accuracy 0.85\t Train Accuracy 0.87\n",
            "Test Accuracy 0.85\t Train Accuracy 0.85\n",
            "Test Accuracy 0.85\t Train Accuracy 0.86\n",
            "Test Accuracy 0.85\t Train Accuracy 0.86\n",
            "Test Accuracy 0.85\t Train Accuracy 0.85\n",
            "Test Accuracy 0.85\t Train Accuracy 0.88\n",
            "Test Accuracy 0.85\t Train Accuracy 0.85\n",
            "Test Accuracy 0.85\t Train Accuracy 0.84\n",
            "Test Accuracy 0.85\t Train Accuracy 0.85\n",
            "Test Accuracy 0.85\t Train Accuracy 0.86\n",
            "Test Accuracy 0.86\t Train Accuracy 0.84\n",
            "Test Accuracy 0.86\t Train Accuracy 0.87\n",
            "Test Accuracy 0.86\t Train Accuracy 0.87\n",
            "Test Accuracy 0.86\t Train Accuracy 0.86\n",
            "Test Accuracy 0.86\t Train Accuracy 0.86\n",
            "Test Accuracy 0.86\t Train Accuracy 0.84\n",
            "Test Accuracy 0.86\t Train Accuracy 0.85\n",
            "Test Accuracy 0.86\t Train Accuracy 0.89\n",
            "Test Accuracy 0.86\t Train Accuracy 0.87\n",
            "Test Accuracy 0.86\t Train Accuracy 0.87\n",
            "Test Accuracy 0.86\t Train Accuracy 0.87\n",
            "Test Accuracy 0.86\t Train Accuracy 0.88\n",
            "Test Accuracy 0.86\t Train Accuracy 0.87\n",
            "Test Accuracy 0.86\t Train Accuracy 0.86\n",
            "Test Accuracy 0.86\t Train Accuracy 0.88\n",
            "Test Accuracy 0.87\t Train Accuracy 0.86\n",
            "Test Accuracy 0.87\t Train Accuracy 0.89\n",
            "Test Accuracy 0.87\t Train Accuracy 0.91\n",
            "Test Accuracy 0.87\t Train Accuracy 0.89\n",
            "Test Accuracy 0.87\t Train Accuracy 0.91\n",
            "Test Accuracy 0.87\t Train Accuracy 0.89\n",
            "Test Accuracy 0.86\t Train Accuracy 0.88\n",
            "Test Accuracy 0.86\t Train Accuracy 0.89\n",
            "Test Accuracy 0.86\t Train Accuracy 0.87\n",
            "Test Accuracy 0.87\t Train Accuracy 0.89\n",
            "Test Accuracy 0.87\t Train Accuracy 0.84\n",
            "Test Accuracy 0.87\t Train Accuracy 0.87\n",
            "Test Accuracy 0.87\t Train Accuracy 0.89\n",
            "Test Accuracy 0.87\t Train Accuracy 0.90\n",
            "Test Accuracy 0.87\t Train Accuracy 0.87\n",
            "Test Accuracy 0.87\t Train Accuracy 0.88\n",
            "Test Accuracy 0.87\t Train Accuracy 0.86\n",
            "Test Accuracy 0.87\t Train Accuracy 0.88\n",
            "Test Accuracy 0.87\t Train Accuracy 0.89\n",
            "Test Accuracy 0.87\t Train Accuracy 0.89\n",
            "Test Accuracy 0.88\t Train Accuracy 0.90\n",
            "Test Accuracy 0.87\t Train Accuracy 0.90\n",
            "Test Accuracy 0.87\t Train Accuracy 0.88\n",
            "Test Accuracy 0.87\t Train Accuracy 0.90\n",
            "Test Accuracy 0.87\t Train Accuracy 0.89\n",
            "Test Accuracy 0.88\t Train Accuracy 0.90\n",
            "Test Accuracy 0.88\t Train Accuracy 0.88\n",
            "Test Accuracy 0.88\t Train Accuracy 0.88\n",
            "Test Accuracy 0.88\t Train Accuracy 0.90\n",
            "Test Accuracy 0.88\t Train Accuracy 0.87\n",
            "Test Accuracy 0.88\t Train Accuracy 0.88\n",
            "Test Accuracy 0.88\t Train Accuracy 0.88\n",
            "Test Accuracy 0.88\t Train Accuracy 0.90\n",
            "Test Accuracy 0.88\t Train Accuracy 0.89\n",
            "Test Accuracy 0.88\t Train Accuracy 0.88\n",
            "Test Accuracy 0.88\t Train Accuracy 0.89\n",
            "Test Accuracy 0.88\t Train Accuracy 0.88\n",
            "Test Accuracy 0.88\t Train Accuracy 0.89\n",
            "Test Accuracy 0.88\t Train Accuracy 0.88\n",
            "Test Accuracy 0.88\t Train Accuracy 0.89\n",
            "Test Accuracy 0.88\t Train Accuracy 0.88\n",
            "Test Accuracy 0.89\t Train Accuracy 0.91\n",
            "Test Accuracy 0.89\t Train Accuracy 0.91\n",
            "Test Accuracy 0.89\t Train Accuracy 0.89\n",
            "Test Accuracy 0.89\t Train Accuracy 0.90\n",
            "Test Accuracy 0.89\t Train Accuracy 0.88\n",
            "Test Accuracy 0.88\t Train Accuracy 0.88\n",
            "Test Accuracy 0.88\t Train Accuracy 0.90\n",
            "Test Accuracy 0.88\t Train Accuracy 0.89\n",
            "Test Accuracy 0.89\t Train Accuracy 0.92\n",
            "Test Accuracy 0.89\t Train Accuracy 0.92\n",
            "Test Accuracy 0.89\t Train Accuracy 0.88\n",
            "Test Accuracy 0.89\t Train Accuracy 0.89\n",
            "Test Accuracy 0.89\t Train Accuracy 0.90\n",
            "Test Accuracy 0.89\t Train Accuracy 0.89\n",
            "Test Accuracy 0.89\t Train Accuracy 0.90\n",
            "Test Accuracy 0.89\t Train Accuracy 0.90\n",
            "Test Accuracy 0.89\t Train Accuracy 0.91\n",
            "Test Accuracy 0.89\t Train Accuracy 0.88\n"
          ],
          "name": "stdout"
        }
      ]
    },
    {
      "cell_type": "code",
      "metadata": {
        "id": "l52jtcyrKn2d",
        "colab_type": "code",
        "colab": {
          "base_uri": "https://localhost:8080/",
          "height": 265
        },
        "outputId": "88aadf1f-4f76-447d-ba0e-9048cc510a65"
      },
      "source": [
        "np.save('./outputs/accuracy', accuracy)\n",
        "np.save('./outputs/weights/W_conv1', sess.run(W_conv1))\n",
        "np.save('./outputs/weights/b_conv1', sess.run(b_conv1))\n",
        "np.save('./outputs/weights/W_conv2', sess.run(W_conv2))\n",
        "np.save('./outputs/weights/b_conv2', sess.run(b_conv2))\n",
        "np.save('./outputs/weights/W_fc1', sess.run(W_fc1))\n",
        "np.save('./outputs/weights/b_fc1', sess.run(b_fc1))\n",
        "np.save('./outputs/weights/W_fc2', sess.run(W_fc2))\n",
        "np.save('./outputs/weights/b_fc2', sess.run(b_fc2))\n",
        "\n",
        "plt.plot(accuracy[:, 0])\n",
        "plt.plot(accuracy[:, 1])\n",
        "plt.show()"
      ],
      "execution_count": 19,
      "outputs": [
        {
          "output_type": "display_data",
          "data": {
            "image/png": "[encoded data removed]",
            "text/plain": [
              "<Figure size 432x288 with 1 Axes>"
            ]
          },
          "metadata": {
            "tags": []
          }
        }
      ]
    }
  ]
}